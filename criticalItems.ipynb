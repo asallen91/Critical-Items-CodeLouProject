{
 "cells": [
  {
   "cell_type": "code",
   "execution_count": 1,
   "metadata": {},
   "outputs": [
    {
     "data": {
      "text/plain": [
       "<sqlite3.Cursor at 0x8976a40>"
      ]
     },
     "execution_count": 1,
     "metadata": {},
     "output_type": "execute_result"
    }
   ],
   "source": [
    "import pandas as pd\n",
    "import sqlite3\n",
    "\n",
    "\n",
    "conn = sqlite3.connect('criticalItems.db')    #used to create a new database\n",
    "c = conn.cursor()\n",
    "\n",
    "\n",
    "def run_query(query): #This function can be used to insert, select, merge, etc, any data into the created database\n",
    "    return pd.read_sql_query(query, conn)\n",
    "\n",
    "c.execute(\"\"\"CREATE TABLE Critical_Items (Items TEXT, Actual_Usage FLOAT, Theo_Usage FLOAT, Variance FLOAT)\"\"\")"
   ]
  },
  {
   "cell_type": "code",
   "execution_count": 2,
   "metadata": {},
   "outputs": [
    {
     "data": {
      "text/plain": [
       "<sqlite3.Cursor at 0x8976a40>"
      ]
     },
     "execution_count": 2,
     "metadata": {},
     "output_type": "execute_result"
    }
   ],
   "source": [
    "c.execute(\"\"\"\n",
    "INSERT INTO Critical_Items (Items, Actual_Usage, Theo_Usage, Variance)\n",
    "VALUES ('Avocados', '77.06', '79.09', '+2.03')\n",
    "\"\"\")"
   ]
  },
  {
   "cell_type": "code",
   "execution_count": 4,
   "metadata": {},
   "outputs": [
    {
     "data": {
      "text/plain": [
       "<sqlite3.Cursor at 0x8976a40>"
      ]
     },
     "execution_count": 4,
     "metadata": {},
     "output_type": "execute_result"
    }
   ],
   "source": [
    "c.execute(\"\"\"\n",
    "INSERT INTO Critical_Items (Items, Actual_Usage, Theo_Usage, Variance)\n",
    "VALUES ('Chicken', '2729.62', '2677.90', '-51.72')\n",
    "\"\"\")"
   ]
  },
  {
   "cell_type": "code",
   "execution_count": 5,
   "metadata": {},
   "outputs": [
    {
     "data": {
      "text/plain": [
       "<sqlite3.Cursor at 0x8976a40>"
      ]
     },
     "execution_count": 5,
     "metadata": {},
     "output_type": "execute_result"
    }
   ],
   "source": [
    "c.execute(\"\"\"\n",
    "INSERT INTO Critical_Items (Items, Actual_Usage, Theo_Usage, Variance)\n",
    "VALUES ('Steak', '737.80', '691.81', '-45.99')\n",
    "\"\"\")"
   ]
  },
  {
   "cell_type": "code",
   "execution_count": 6,
   "metadata": {},
   "outputs": [
    {
     "data": {
      "text/plain": [
       "<sqlite3.Cursor at 0x8976a40>"
      ]
     },
     "execution_count": 6,
     "metadata": {},
     "output_type": "execute_result"
    }
   ],
   "source": [
    "c.execute(\"\"\"\n",
    "INSERT INTO Critical_Items (Items, Actual_Usage, Theo_Usage, Variance)\n",
    "VALUES ('Cheese', '968.88', '846.31', '-122.37')\n",
    "\"\"\")"
   ]
  },
  {
   "cell_type": "code",
   "execution_count": 7,
   "metadata": {},
   "outputs": [
    {
     "data": {
      "text/html": [
       "<div>\n",
       "<style scoped>\n",
       "    .dataframe tbody tr th:only-of-type {\n",
       "        vertical-align: middle;\n",
       "    }\n",
       "\n",
       "    .dataframe tbody tr th {\n",
       "        vertical-align: top;\n",
       "    }\n",
       "\n",
       "    .dataframe thead th {\n",
       "        text-align: right;\n",
       "    }\n",
       "</style>\n",
       "<table border=\"1\" class=\"dataframe\">\n",
       "  <thead>\n",
       "    <tr style=\"text-align: right;\">\n",
       "      <th></th>\n",
       "      <th>Items</th>\n",
       "      <th>Actual_Usage</th>\n",
       "      <th>Theo_Usage</th>\n",
       "      <th>Variance</th>\n",
       "    </tr>\n",
       "  </thead>\n",
       "  <tbody>\n",
       "    <tr>\n",
       "      <td>0</td>\n",
       "      <td>Avocados</td>\n",
       "      <td>77.06</td>\n",
       "      <td>79.09</td>\n",
       "      <td>2.03</td>\n",
       "    </tr>\n",
       "    <tr>\n",
       "      <td>1</td>\n",
       "      <td>Chicken</td>\n",
       "      <td>2729.62</td>\n",
       "      <td>2677.90</td>\n",
       "      <td>-51.72</td>\n",
       "    </tr>\n",
       "    <tr>\n",
       "      <td>2</td>\n",
       "      <td>Steak</td>\n",
       "      <td>737.80</td>\n",
       "      <td>691.81</td>\n",
       "      <td>-45.99</td>\n",
       "    </tr>\n",
       "    <tr>\n",
       "      <td>3</td>\n",
       "      <td>Cheese</td>\n",
       "      <td>968.88</td>\n",
       "      <td>846.31</td>\n",
       "      <td>-122.37</td>\n",
       "    </tr>\n",
       "  </tbody>\n",
       "</table>\n",
       "</div>"
      ],
      "text/plain": [
       "      Items  Actual_Usage  Theo_Usage  Variance\n",
       "0  Avocados         77.06       79.09      2.03\n",
       "1   Chicken       2729.62     2677.90    -51.72\n",
       "2     Steak        737.80      691.81    -45.99\n",
       "3    Cheese        968.88      846.31   -122.37"
      ]
     },
     "execution_count": 7,
     "metadata": {},
     "output_type": "execute_result"
    }
   ],
   "source": [
    "query = \"\"\"\n",
    "SELECT *\n",
    "FROM\n",
    "Critical_Items\n",
    "\"\"\"\n",
    "\n",
    "run_query(query)"
   ]
  },
  {
   "cell_type": "code",
   "execution_count": 8,
   "metadata": {},
   "outputs": [
    {
     "name": "stdout",
     "output_type": "stream",
     "text": [
      "('Avocados', 77.06, 79.09, 2.03)\n",
      "('Chicken', 2729.62, 2677.9, -51.72)\n",
      "('Steak', 737.8, 691.81, -45.99)\n",
      "('Cheese', 968.88, 846.31, -122.37)\n"
     ]
    }
   ],
   "source": [
    "for row in c.execute(\"\"\"SELECT * FROM Critical_Items\"\"\"):\n",
    "    print(row)"
   ]
  },
  {
   "cell_type": "code",
   "execution_count": null,
   "metadata": {},
   "outputs": [],
   "source": []
  }
 ],
 "metadata": {
  "kernelspec": {
   "display_name": "Python 3",
   "language": "python",
   "name": "python3"
  },
  "language_info": {
   "codemirror_mode": {
    "name": "ipython",
    "version": 3
   },
   "file_extension": ".py",
   "mimetype": "text/x-python",
   "name": "python",
   "nbconvert_exporter": "python",
   "pygments_lexer": "ipython3",
   "version": "3.7.4"
  }
 },
 "nbformat": 4,
 "nbformat_minor": 2
}
